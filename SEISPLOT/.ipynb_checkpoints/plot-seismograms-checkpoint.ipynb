{
 "cells": [
  {
   "cell_type": "markdown",
   "metadata": {},
   "source": [
    "With this tool you can plot seismograms for local seismic events, in or near Ireland, and also global earthquakes. You can chose specific stations, select all stations operating in Ireland or search for stations within a specified range from the epicenter. The data are automatically downloaded from international data centers when you run the tool, so expect some delays especially when you run the last cell that creates the seismogram plot.\n",
    "\n",
    "To start click into the next box (called 'cell' in Jupyter jargon) and select 'Run' in the menu above. The commands will disable auto-scrolling of large figures."
   ]
  },
  {
   "cell_type": "code",
   "execution_count": 1,
   "metadata": {},
   "outputs": [
    {
     "data": {
      "application/javascript": [
       "IPython.OutputArea.prototype._should_scroll = function(lines) {return false;}\n"
      ],
      "text/plain": [
       "<IPython.core.display.Javascript object>"
      ]
     },
     "metadata": {},
     "output_type": "display_data"
    }
   ],
   "source": [
    "%%javascript\n",
    "IPython.OutputArea.prototype._should_scroll = function(lines) {return false;}"
   ]
  },
  {
   "cell_type": "markdown",
   "metadata": {},
   "source": [
    "Now run the next cell to load some defaults and the INSN library:"
   ]
  },
  {
   "cell_type": "code",
   "execution_count": 2,
   "metadata": {},
   "outputs": [],
   "source": [
    "%reload_ext autoreload\n",
    "%autoreload 1\n",
    "%aimport INSN\n",
    "%matplotlib notebook"
   ]
  },
  {
   "cell_type": "markdown",
   "metadata": {},
   "source": [
    "Specify epicentre location and event date and time in the following cell and run it. Lines starting with the # character are commented out, one line starting with 'Year' and one with 'lat' are required."
   ]
  },
  {
   "cell_type": "code",
   "execution_count": 3,
   "metadata": {
    "scrolled": true
   },
   "outputs": [],
   "source": [
    "# M0.6 Irish Sea, 11.12.2020\n",
    "Year =  2020; Month = 12; Day = 11; Hour = 4; Minute = 13; Second = 26\n",
    "lat = 52.86; lon = -5.44; depth = 1  # in km\n",
    "\n",
    "# M0.6 off Northern Donegal, 7th December 2020 at 08:29:17 \n",
    "#Year =  2020; Month = 12; Day = 7; Hour = 8; Minute = 29; Second = 17\n",
    "#lat = 55.45; lon = -7.05; depth = 3  # in km\n",
    "\n",
    "# M1.3 offshore Skerries, 17.9.2020\n",
    "#Year =  2020; Month = 9; Day = 17; Hour = 17; Minute = 31; Second = 40\n",
    "#lat = 53.6; lon = -6.08; depth = 14  # in km\n",
    "\n",
    "################## GLOBAL EVENTS ################\n",
    "\n",
    "# M7.0 Greece, 30th of October 2020 at 11:51:26\n",
    "#Year =  2020; Month = 10; Day = 30; Hour = 11; Minute = 51; Second = 26\n",
    "#lat = 37.913; lon = 26.779; depth = 21  # in km\n",
    "\n",
    "# M7.5 Alaska, 19th of October 2020 at 20:54:40\n",
    "#Year =  2020; Month = 10; Day = 19; Hour = 20; Minute = 54; Second = 40\n",
    "#lat = 54.596; lon = -159.622; depth = 29.1  # in km\n",
    "\n",
    "# M7.8 Alaska, 22nd of July 2020 at 06:12:44\n",
    "#Year =  2020; Month = 7; Day = 22; Hour = 6; Minute = 12; Second = 44\n",
    "#lat = 55.072; lon = -158.596; depth = 28  # in km"
   ]
  },
  {
   "cell_type": "markdown",
   "metadata": {},
   "source": [
    "In the next cell chose with the \"SEARCH_TYPE\" parameter how to search for seismic stations that hold relevant data."
   ]
  },
  {
   "cell_type": "code",
   "execution_count": 4,
   "metadata": {
    "scrolled": true
   },
   "outputs": [
    {
     "name": "stdout",
     "output_type": "stream",
     "text": [
      "found data for these stations in provided search area and time frame:\n",
      "['AM.RE147.00.SHZ', 'AM.R379E.00.EHZ', 'AM.RF7A3.00.EHZ', 'AM.RB6F1.00.EHZ', 'AM.R6B6E.00.EHZ', 'AM.R04A7.00.EHZ', 'GB.FOEL.00.HHZ', 'GB.RSBS.00.HHZ', 'GB.WLF1.00.HHZ', 'GB.WPS.00.HHZ', 'GE.DSB..HHZ', 'GE.ILTH..HHZ', 'EI.DSB..HHZ', 'EI.IWEX..HHZ', 'EI.ILTH..HHZ']\n",
      "\n",
      "new list after excluding networks and/or stations:\n",
      "['AM.RE147.00.SHZ', 'AM.RF7A3.00.EHZ', 'AM.R6B6E.00.EHZ', 'AM.R04A7.00.EHZ', 'GB.FOEL.00.HHZ', 'GB.RSBS.00.HHZ', 'GB.WPS.00.HHZ', 'EI.DSB..HHZ', 'EI.IWEX..HHZ', 'EI.ILTH..HHZ']\n"
     ]
    }
   ],
   "source": [
    "SEARCH_TYPE = 0  # must be 0,1 or 2\n",
    "\n",
    "# SEARCH_TYPE = 0: all stations within maxradius of epicenter \n",
    "maxradius = 152 # in km\n",
    "\n",
    "# SEARCH_TYPE = 1: all stations in Ireland\n",
    "\n",
    "# SEARCH_TYPE = 2: specific stations (specifiy as \"search_netstat\", eg. ['AM.RE147','GB.RSBS'] )\n",
    "search_netstat = ['EI.IWEX','AM.RE147','GB.RSBS']\n",
    "\n",
    "# List networks to be excluded, eg. ['GB','IM']\n",
    "excl_net = ['UR','GE','IM','YJ'] \n",
    "\n",
    "# List stations to be excluded, eg. ['ILTH','DSB']\n",
    "excl_stat = ['R379E','RB6F1','STNC','WLF1']\n",
    "\n",
    "nslc, t0, inv = INSN.check_stations(maxradius, SEARCH_TYPE, search_netstat, excl_net, excl_stat, lat, lon, Year, Month, Day, Hour, Minute, Second)"
   ]
  },
  {
   "cell_type": "markdown",
   "metadata": {},
   "source": [
    "By running the next cell you sort stations by distance from the event. "
   ]
  },
  {
   "cell_type": "code",
   "execution_count": null,
   "metadata": {},
   "outputs": [],
   "source": [
    "nslc, R_hypos = INSN.sort_stations(nslc, t0, inv, lat, lon, depth)"
   ]
  },
  {
   "cell_type": "markdown",
   "metadata": {},
   "source": [
    "In the next cell chose some plotting parameters and how you want to filter the data, then run it to create the seismogram plot."
   ]
  },
  {
   "cell_type": "code",
   "execution_count": null,
   "metadata": {
    "scrolled": true
   },
   "outputs": [],
   "source": [
    "# Chose the length of the seimograms, in seconds:\n",
    "length = 90   # ~120 for local events, ~1,800 to 7,200 for large distant earthquakes \n",
    "\n",
    "# Chose how many seconds of data you want to plot before the event time:\n",
    "pretime = 0     # ~15 or 0 for local events, 0 for distant events\n",
    "\n",
    "# chose amplitude parameter ('counts', 'disp': displacement, 'vel': velocity, 'acc': acceleration)\n",
    "correct = 'disp'\n",
    "\n",
    "# chose filter settings  (number or 'none')\n",
    "freqmin = 8   # 4 to 8 for local events        0.01 to 0.02 for distant events (or 0.5)\n",
    "freqmax = 20   # try 8 to 20 for local events   ~0.05 for distant events (or 2.0)\n",
    "\n",
    "# Lets plot seismograms:\n",
    "INSN.plot(nslc, correct, t0, lat, lon, length, pretime, R_hypos, freqmin, freqmax)"
   ]
  },
  {
   "cell_type": "code",
   "execution_count": null,
   "metadata": {
    "scrolled": true
   },
   "outputs": [],
   "source": []
  },
  {
   "cell_type": "code",
   "execution_count": null,
   "metadata": {
    "scrolled": true
   },
   "outputs": [],
   "source": []
  },
  {
   "cell_type": "code",
   "execution_count": null,
   "metadata": {
    "scrolled": true
   },
   "outputs": [],
   "source": []
  },
  {
   "cell_type": "code",
   "execution_count": null,
   "metadata": {},
   "outputs": [],
   "source": []
  }
 ],
 "metadata": {
  "kernelspec": {
   "display_name": "Python 3",
   "language": "python",
   "name": "python3"
  },
  "language_info": {
   "codemirror_mode": {
    "name": "ipython",
    "version": 3
   },
   "file_extension": ".py",
   "mimetype": "text/x-python",
   "name": "python",
   "nbconvert_exporter": "python",
   "pygments_lexer": "ipython3",
   "version": "3.7.6"
  }
 },
 "nbformat": 4,
 "nbformat_minor": 4
}
