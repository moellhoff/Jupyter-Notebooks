{
 "cells": [
  {
   "cell_type": "markdown",
   "metadata": {},
   "source": [
    "Welcome to the SNCAST jupyter notebook!\n",
    "\n",
    "First lets load some libraries and default settings.\n",
    "Please don't change anything in the cell below.\n",
    "\n",
    "Click into the next cell and select 'Run' in the menu above, this will execute the python code in the cell."
   ]
  },
  {
   "cell_type": "code",
   "execution_count": null,
   "metadata": {},
   "outputs": [],
   "source": [
    "%matplotlib inline\n",
    "import numpy as np\n",
    "import sys\n",
    "from obspy.signal.util import util_geo_km\n",
    "from math import pow, log10, sqrt\n",
    "%reload_ext autoreload\n",
    "%autoreload 1\n",
    "%aimport sncast"
   ]
  },
  {
   "cell_type": "markdown",
   "metadata": {},
   "source": [
    "First we need an input file that contains four comma separated columns containing for each seismic station:\n",
    "\n",
    "    longitude, latitude, noise [nm], station name\n",
    "         \n",
    "    for example: -7.5100, 55.0700, 0.53, IDGL\n",
    "    \n",
    "Let's use an example file for Ireland, called \"noisedata\". If you want to use your own data replace the filename in the next cell.\n",
    "\n",
    "Clicking into the next cell and selecting 'Run' in the menu above will execute the SNCAST python code."
   ]
  },
  {
   "cell_type": "code",
   "execution_count": null,
   "metadata": {},
   "outputs": [],
   "source": [
    "sncast.minML('noisedata')"
   ]
  },
  {
   "cell_type": "markdown",
   "metadata": {},
   "source": [
    "An output file will be generated with the ending \".grd\". The exact filename depends on the parameters you have chosen. In the example above no parameters were chosen and hence default values were applied. Besides a longitude and latitude range applicable for Ireland the following default settings apply:\n",
    "\n",
    "stat_num = 4\trequired number of station detections\n",
    "snr = 3\t\t\trequired signal-to-noise ratio for detection\n",
    "foc_depth = 0\tassumed focal event depth in km\n",
    "region = CAL\tlocality for assumed ML scale parameters ('UK' or 'CAL')\n",
    "\n",
    "With these default settings the output file will be  \"noisedata-stat4-foc0-snr3-CAL.grd\"\n",
    "\n",
    "Running the following cell will plot a contour map of the results, it should look like this: ![title](https://homepages.dias.ie/martin/sncast-example1.png)"
   ]
  },
  {
   "cell_type": "code",
   "execution_count": null,
   "metadata": {},
   "outputs": [],
   "source": [
    "from scipy.interpolate import griddata\n",
    "import numpy as np\n",
    "import matplotlib.pyplot as plt\n",
    "\n",
    "from scipy.interpolate import griddata\n",
    "import numpy as np\n",
    "import pandas as pd\n",
    "import matplotlib.pyplot as plt\n",
    "\n",
    "x, y, z = np.loadtxt('noisedata-stat4-foc0-snr3-CAL.grd').T\n",
    "\n",
    "# define grid\n",
    "xi = np.linspace(-11.5,-4.5,15)\n",
    "yi = np.linspace(51,56,15)\n",
    "\n",
    "X,Y= np.meshgrid(xi,yi)\n",
    "\n",
    "# grid the data\n",
    "Z = griddata((x,y),z,(X,Y),method='linear')\n",
    "\n",
    "# contour the gridded data, \n",
    "plt.contour(X,Y,Z,linewidths=0.5,colors='k')\n",
    "plt.contourf(X,Y,Z,cmap=plt.cm.hot_r, vmax=(Z).max(), vmin=(Z).min())\n",
    "\n",
    "plt.colorbar() # draw colorbar\n",
    "plt.title('Minimum detectable ML')\n",
    "plt.xlabel('Longitude [degrees]')\n",
    "plt.ylabel('Latitude [degrees]')\n",
    "\n",
    "# mark station locations on map\n",
    "xs, ys, zs, stat = np.genfromtxt('noisedata',delimiter=',').T\n",
    "plt.autoscale(False)\n",
    "plt.plot(xs,ys, marker='v',color='k',linestyle='none');\n"
   ]
  },
  {
   "cell_type": "code",
   "execution_count": null,
   "metadata": {},
   "outputs": [],
   "source": []
  },
  {
   "cell_type": "code",
   "execution_count": null,
   "metadata": {},
   "outputs": [],
   "source": []
  }
 ],
 "metadata": {
  "kernelspec": {
   "display_name": "Python 3",
   "language": "python",
   "name": "python3"
  },
  "language_info": {
   "codemirror_mode": {
    "name": "ipython",
    "version": 3
   },
   "file_extension": ".py",
   "mimetype": "text/x-python",
   "name": "python",
   "nbconvert_exporter": "python",
   "pygments_lexer": "ipython3",
   "version": "3.7.6"
  }
 },
 "nbformat": 4,
 "nbformat_minor": 4
}
