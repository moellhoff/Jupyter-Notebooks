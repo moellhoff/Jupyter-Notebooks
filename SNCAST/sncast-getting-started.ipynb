{
 "cells": [
  {
   "cell_type": "markdown",
   "metadata": {},
   "source": [
    "Welcome to the SNCAST jupyter notebook!\n",
    "\n",
    "First lets load some libraries and default settings.\n",
    "Please don't change anything in the cell below.\n",
    "\n",
    "Click into the next cell and select 'Run' in the menu above, this will execute the python code in the cell."
   ]
  },
  {
   "cell_type": "code",
   "execution_count": null,
   "metadata": {},
   "outputs": [],
   "source": [
    "%matplotlib inline\n",
    "import numpy as np\n",
    "import sys\n",
    "from obspy.signal.util import util_geo_km\n",
    "from math import pow, log10, sqrt\n",
    "%reload_ext autoreload\n",
    "%autoreload 1\n",
    "%aimport sncast"
   ]
  },
  {
   "cell_type": "markdown",
   "metadata": {},
   "source": [
    "First we need an input file that contains four comma separated columns containing for each seismic station:\n",
    "\n",
    "    longitude, latitude, noise [nm], station name\n",
    "         \n",
    "    for example: -7.5100, 55.0700, 0.53, IDGL\n",
    "    \n",
    "Let's use an example file for Ireland, called \"noisedata\". If you want to use your own data replace the filename in the next cell.\n",
    "\n",
    "Clicking into the next cell and selecting 'Run' in the menu above will execute the SNCAST python code."
   ]
  },
  {
   "cell_type": "code",
   "execution_count": null,
   "metadata": {},
   "outputs": [],
   "source": [
    "sncast.minML('noisedata')"
   ]
  },
  {
   "cell_type": "markdown",
   "metadata": {},
   "source": [
    "An output file will be generated with the ending \".grd\". The exact filename depends on the parameters you have chosen. In the example above no parameters were chosen and hence default values were applied. Besides a longitude and latitude range applicable for Ireland the following default settings apply:\n",
    "\n",
    "stat_num = 4\trequired number of station detections\n",
    "snr = 3\t\t\trequired signal-to-noise ratio for detection\n",
    "foc_depth = 0\tassumed focal event depth in km\n",
    "region = CAL\tlocality for assumed ML scale parameters ('UK' or 'CAL')\n",
    "\n",
    "With these default settings the output file will be called \"noisedata-stat4-foc0-snr3-CAL.grd\"\n",
    "\n",
    "Running the following cell will plot a contour map of the results, it should look like this: ![title](https://homepages.dias.ie/martin/sncast-example1.png)"
   ]
  },
  {
   "cell_type": "code",
   "execution_count": null,
   "metadata": {},
   "outputs": [],
   "source": [
    "from scipy.interpolate import griddata\n",
    "import numpy as np\n",
    "import matplotlib.pyplot as plt\n",
    "\n",
    "from scipy.interpolate import griddata\n",
    "import numpy as np\n",
    "import pandas as pd\n",
    "import matplotlib.pyplot as plt\n",
    "\n",
    "x, y, z = np.loadtxt('noisedata-stat4-foc0-snr3-CAL.grd').T\n",
    "\n",
    "# define grid\n",
    "xi = np.linspace(-11.5,-4.5,15)\n",
    "yi = np.linspace(51,56,15)\n",
    "\n",
    "X,Y= np.meshgrid(xi,yi)\n",
    "\n",
    "# grid the data\n",
    "Z = griddata((x,y),z,(X,Y),method='linear')\n",
    "\n",
    "# contour the gridded data, \n",
    "plt.contour(X,Y,Z,linewidths=0.5,colors='k')\n",
    "plt.contourf(X,Y,Z,cmap=plt.cm.hot_r, vmax=(Z).max(), vmin=(Z).min())\n",
    "\n",
    "plt.colorbar() # draw colorbar\n",
    "plt.title('Minimum detectable ML')\n",
    "plt.xlabel('Longitude [degrees]')\n",
    "plt.ylabel('Latitude [degrees]')\n",
    "\n",
    "# mark station locations on map\n",
    "xs, ys, zs, stat = np.genfromtxt('noisedata',delimiter=',').T\n",
    "plt.autoscale(False)\n",
    "plt.plot(xs,ys, marker='v',color='k',linestyle='none');\n"
   ]
  },
  {
   "cell_type": "markdown",
   "metadata": {},
   "source": [
    "Now let's see how to run SNCAST with non-default settings. Let's for example use different latitude and longitude settings to get a larger map extent and use stricter detection limits stat_num=6 and snr=4. You can see the definitions and order of parameters that sncast.minML accepts in the main code sncast.py.\n"
   ]
  },
  {
   "cell_type": "code",
   "execution_count": null,
   "metadata": {},
   "outputs": [],
   "source": [
    "sncast.minML('noisedata','./',-12.5,-4.5,48.5,58.5,0.4,0.25,6,4)"
   ]
  },
  {
   "cell_type": "markdown",
   "metadata": {},
   "source": [
    "This creates an output file called \"noisedata-stat6-foc0-snr4-CAL.grd\". Let's plot it by running code similar as above. The only changes are the input filename and the latitude longitude changes (xi, yi)."
   ]
  },
  {
   "cell_type": "code",
   "execution_count": null,
   "metadata": {
    "scrolled": true
   },
   "outputs": [],
   "source": [
    "from scipy.interpolate import griddata\n",
    "import numpy as np\n",
    "import matplotlib.pyplot as plt\n",
    "\n",
    "from scipy.interpolate import griddata\n",
    "import numpy as np\n",
    "import pandas as pd\n",
    "import matplotlib.pyplot as plt\n",
    "\n",
    "x, y, z = np.loadtxt('noisedata-stat6-foc0-snr4-CAL.grd').T\n",
    "\n",
    "# define grid\n",
    "xi = np.linspace(-12.5,-4.5,15)\n",
    "yi = np.linspace(48.5,58.5,15)\n",
    "\n",
    "X,Y= np.meshgrid(xi,yi)\n",
    "\n",
    "# grid the data\n",
    "Z = griddata((x,y),z,(X,Y),method='linear')\n",
    "\n",
    "# contour the gridded data, \n",
    "plt.contour(X,Y,Z,linewidths=0.5,colors='k')\n",
    "plt.contourf(X,Y,Z,cmap=plt.cm.hot_r, vmax=(Z).max(), vmin=(Z).min())\n",
    "\n",
    "plt.colorbar() # draw colorbar\n",
    "plt.title('Minimum detectable ML')\n",
    "plt.xlabel('Longitude [degrees]')\n",
    "plt.ylabel('Latitude [degrees]')\n",
    "\n",
    "# mark station locations on map\n",
    "xs, ys, zs, stat = np.genfromtxt('noisedata',delimiter=',').T\n",
    "plt.autoscale(False)\n",
    "plt.plot(xs,ys, marker='v',color='k',linestyle='none');\n"
   ]
  },
  {
   "cell_type": "markdown",
   "metadata": {},
   "source": [
    "With the stricter detection threshold settings of stat_num=6 and snr=4 the resulting map shows that the ML detection thresold changed significantly, note the different colour scale in the two figures!\n",
    "\n",
    "This demonstrates that SNCAST is not the best tool to determine the absolute value of a network's detection threshold. We recommend to independently calculate the magnitude of completeness (Mc) of the network and use the result to determine suitable values for stat_num and snr. Basically tune SNCAST by changing the two values (and maybe what type of station noise levels you use) until the average detection limit in the map corresponds with Mc. Then SNCAST can be used as a powerful tool to determine geopgraphical and also temporal changes in network capability. For more information see the SNCAST publication at  http://dx.doi.org/10.1007/s10950-019-09819-0 or in https://www.researchgate.net/profile/Martin_Moellhoff2"
   ]
  }
 ],
 "metadata": {
  "kernelspec": {
   "display_name": "Python 3",
   "language": "python",
   "name": "python3"
  },
  "language_info": {
   "codemirror_mode": {
    "name": "ipython",
    "version": 3
   },
   "file_extension": ".py",
   "mimetype": "text/x-python",
   "name": "python",
   "nbconvert_exporter": "python",
   "pygments_lexer": "ipython3",
   "version": "3.7.6"
  }
 },
 "nbformat": 4,
 "nbformat_minor": 4
}
